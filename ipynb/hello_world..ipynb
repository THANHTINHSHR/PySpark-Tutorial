{
 "cells": [
  {
   "cell_type": "code",
   "execution_count": 9,
   "metadata": {},
   "outputs": [],
   "source": [
    "from pyspark.sql import SparkSession\n",
    "\n",
    "# Init spark sesion\n",
    "spark = SparkSession.builder.appName(\"HelloSpark\").master(\"spark:http://THANH-TINH-PC:8080\").getOrCreate()\n"
   ]
  },
  {
   "cell_type": "code",
   "execution_count": null,
   "metadata": {},
   "outputs": [],
   "source": []
  },
  {
   "cell_type": "code",
   "execution_count": 10,
   "metadata": {},
   "outputs": [
    {
     "name": "stdout",
     "output_type": "stream",
     "text": [
      "+---+---+-------+----------+-------------------+\n",
      "|  a|  b|      c|         d|                  e|\n",
      "+---+---+-------+----------+-------------------+\n",
      "|  1|2.0|string1|2000-01-01|2000-01-01 12:00:00|\n",
      "|  2|3.0|string2|2000-02-01|2000-01-02 12:00:00|\n",
      "+---+---+-------+----------+-------------------+\n",
      "only showing top 2 rows\n",
      "\n"
     ]
    }
   ],
   "source": [
    "from datetime import datetime, date\n",
    "import pandas as pd\n",
    "from pyspark.sql import Row\n",
    "from pyspark.sql import SparkSession\n",
    "\n",
    "# Init spark sesion\n",
    "\n",
    "df = spark.createDataFrame([\n",
    "    Row(a=1, b=2., c='string1', d=date(2000, 1, 1), e=datetime(2000, 1, 1, 12, 0)),\n",
    "    Row(a=2, b=3., c='string2', d=date(2000, 2, 1), e=datetime(2000, 1, 2, 12, 0)),\n",
    "    Row(a=4, b=5., c='string3', d=date(2000, 3, 1), e=datetime(2000, 1, 3, 12, 0))\n",
    "])\n",
    "df.show(2)"
   ]
  },
  {
   "cell_type": "code",
   "execution_count": 11,
   "metadata": {},
   "outputs": [
    {
     "name": "stdout",
     "output_type": "stream",
     "text": [
      "+------+-----------+----------------+-------+---------+--------+--------+----+\n",
      "|Season|Natural Key|            Name| Nation|Positions|Squad_ID|   Squad|Born|\n",
      "+------+-----------+----------------+-------+---------+--------+--------+----+\n",
      "|  2024|   f586779e|   Tammy Abraham|eng ENG|       FW|dc56fe14|it Milan|1997|\n",
      "|  2024|   b96b595c|Francesco Acerbi| it ITA|       DF|d609edc0|it Inter|1988|\n",
      "+------+-----------+----------------+-------+---------+--------+--------+----+\n",
      "only showing top 2 rows\n",
      "\n"
     ]
    },
    {
     "ename": "AttributeError",
     "evalue": "'NoneType' object has no attribute 'show'",
     "output_type": "error",
     "traceback": [
      "\u001b[31m---------------------------------------------------------------------------\u001b[39m",
      "\u001b[31mAttributeError\u001b[39m                            Traceback (most recent call last)",
      "\u001b[36mCell\u001b[39m\u001b[36m \u001b[39m\u001b[32mIn[11]\u001b[39m\u001b[32m, line 4\u001b[39m\n\u001b[32m      2\u001b[39m df_player.show(\u001b[32m2\u001b[39m)\n\u001b[32m      3\u001b[39m df_parquet = df_player.write.parquet(\u001b[33mr\u001b[39m\u001b[33m\"\u001b[39m\u001b[33m..files\u001b[39m\u001b[33m\\\u001b[39m\u001b[33mParquet\u001b[39m\u001b[33m\\\u001b[39m\u001b[33minput.parquet\u001b[39m\u001b[33m\"\u001b[39m, mode=\u001b[33m\"\u001b[39m\u001b[33moverwrite\u001b[39m\u001b[33m\"\u001b[39m)\n\u001b[32m----> \u001b[39m\u001b[32m4\u001b[39m \u001b[43mdf_parquet\u001b[49m\u001b[43m.\u001b[49m\u001b[43mshow\u001b[49m(\u001b[32m4\u001b[39m)\n",
      "\u001b[31mAttributeError\u001b[39m: 'NoneType' object has no attribute 'show'"
     ]
    }
   ],
   "source": [
    "df_player = spark.read.csv(r\"..\\files\\raw\\fbref_data\\Champions-League\\PLAYERS\\2024\\2025-03-09_01-49-32.csv\", header=True, inferSchema=True)\n",
    "df_player.show(2)\n",
    "df_parquet = df_player.write.parquet(r\"..files\\Parquet\\input.parquet\", mode=\"overwrite\")\n",
    "df_parquet.show(4)"
   ]
  },
  {
   "cell_type": "code",
   "execution_count": null,
   "metadata": {},
   "outputs": [],
   "source": [
    "df = df_parquet\n",
    "# Chọn cột\n",
    "df.select(df[\"Name\"], df[\"Positions\"]).show()\n",
    "\n",
    "# Lọc dữ liệu\n",
    "df.filter(df[\"Born\"] >2000).show()\n",
    "\n",
    "# Nhóm và đếm\n",
    "df.groupBy(\"Squad\").count().show()\n",
    "\n"
   ]
  },
  {
   "cell_type": "code",
   "execution_count": null,
   "metadata": {},
   "outputs": [
    {
     "ename": "NameError",
     "evalue": "name 'spark' is not defined",
     "output_type": "error",
     "traceback": [
      "\u001b[31m---------------------------------------------------------------------------\u001b[39m",
      "\u001b[31mNameError\u001b[39m                                 Traceback (most recent call last)",
      "\u001b[36mCell\u001b[39m\u001b[36m \u001b[39m\u001b[32mIn[2]\u001b[39m\u001b[32m, line 1\u001b[39m\n\u001b[32m----> \u001b[39m\u001b[32m1\u001b[39m df_player = \u001b[43mspark\u001b[49m.read.csv(\u001b[33mr\u001b[39m\u001b[33m\"\u001b[39m\u001b[33m..\u001b[39m\u001b[33m\\\u001b[39m\u001b[33mfiles\u001b[39m\u001b[33m\\\u001b[39m\u001b[33mCSV\u001b[39m\u001b[33m\\\u001b[39m\u001b[33mplayer.csv\u001b[39m\u001b[33m\"\u001b[39m,header=\u001b[38;5;28;01mTrue\u001b[39;00m, inferSchema=\u001b[38;5;28;01mTrue\u001b[39;00m)\n\u001b[32m      2\u001b[39m df_player.show(\u001b[32m2\u001b[39m)\n\u001b[32m      3\u001b[39m df_match = spark.read.csv(\u001b[33mr\u001b[39m\u001b[33m\"\u001b[39m\u001b[33m..\u001b[39m\u001b[33m\\\u001b[39m\u001b[33mfiles\u001b[39m\u001b[33m\\\u001b[39m\u001b[33mCSV\u001b[39m\u001b[33m\\\u001b[39m\u001b[33minput_file.csv\u001b[39m\u001b[33m\"\u001b[39m,header=\u001b[38;5;28;01mTrue\u001b[39;00m, inferSchema=\u001b[38;5;28;01mTrue\u001b[39;00m)\n",
      "\u001b[31mNameError\u001b[39m: name 'spark' is not defined"
     ]
    }
   ],
   "source": [
    "df_player = spark.read.csv(r\"..\\files\\CSV\\player.csv\",header=True, inferSchema=True)\n",
    "df_player.show(2)\n",
    "df_match = spark.read.csv(r\"..\\files\\CSV\\input_file.csv\",header=True, inferSchema=True)\n",
    "\n",
    "df_match.show(4)\n",
    "# Join DataFrames\n",
    "df_match_player = df_player.join(df_match, df_player[\"Squad_ID\"] == df_match[\"team_id\"], \"inner\") \n",
    "df_match_player.show(10)\n",
    "\n",
    "\n",
    "#df1.join(df2, df1[\"id\"] == df2[\"id\"], \"inner\").show()\n"
   ]
  },
  {
   "cell_type": "code",
   "execution_count": null,
   "metadata": {},
   "outputs": [
    {
     "ename": "NameError",
     "evalue": "name 'df_match_player' is not defined",
     "output_type": "error",
     "traceback": [
      "\u001b[31m---------------------------------------------------------------------------\u001b[39m",
      "\u001b[31mNameError\u001b[39m                                 Traceback (most recent call last)",
      "\u001b[36mCell\u001b[39m\u001b[36m \u001b[39m\u001b[32mIn[1]\u001b[39m\u001b[32m, line 2\u001b[39m\n\u001b[32m      1\u001b[39m squad_id =\u001b[33m\"\u001b[39m\u001b[33mJuventus\u001b[39m\u001b[33m\"\u001b[39m\n\u001b[32m----> \u001b[39m\u001b[32m2\u001b[39m \u001b[43mdf_match_player\u001b[49m.filter(df_match_player[\u001b[33m\"\u001b[39m\u001b[33mSquad\u001b[39m\u001b[33m\"\u001b[39m] == squad_id).show()\n",
      "\u001b[31mNameError\u001b[39m: name 'df_match_player' is not defined"
     ]
    }
   ],
   "source": [
    "squad_id =\"Juventus\"\n",
    "df_match_player.filter(df_match_player[\"Squad\"] == squad_id).show()"
   ]
  }
 ],
 "metadata": {
  "kernelspec": {
   "display_name": "venv",
   "language": "python",
   "name": "python3"
  },
  "language_info": {
   "codemirror_mode": {
    "name": "ipython",
    "version": 3
   },
   "file_extension": ".py",
   "mimetype": "text/x-python",
   "name": "python",
   "nbconvert_exporter": "python",
   "pygments_lexer": "ipython3",
   "version": "3.11.0"
  }
 },
 "nbformat": 4,
 "nbformat_minor": 2
}
